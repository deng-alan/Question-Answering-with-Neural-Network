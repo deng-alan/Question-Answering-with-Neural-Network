{
 "cells": [
  {
   "cell_type": "code",
   "execution_count": null,
   "metadata": {
    "collapsed": true
   },
   "outputs": [],
   "source": [
    "sentence = 'what is the last time john wins a gold medal?'\n",
    "bashCommand = 'echo \\'' + sentence + '\\' | ./syntaxnet/demo.test.sh > ~/tmp/syntaxnet_temp.txt'"
   ]
  },
  {
   "cell_type": "code",
   "execution_count": null,
   "metadata": {
    "collapsed": false
   },
   "outputs": [],
   "source": [
    "import os\n",
    "os.chdir('/home/yuweilin/models/syntaxnet/')\n",
    "os.system(bashCommand)"
   ]
  },
  {
   "cell_type": "code",
   "execution_count": null,
   "metadata": {
    "collapsed": false
   },
   "outputs": [],
   "source": [
    "with open('/home/yuweilin/tmp/syntaxnet_temp.txt', 'r') as f:\n",
    "    lines = f.readlines()\n",
    "    print(len(lines))\n",
    "    for line in lines:\n",
    "        print(line.split())"
   ]
  },
  {
   "cell_type": "code",
   "execution_count": null,
   "metadata": {
    "collapsed": false
   },
   "outputs": [],
   "source": [
    "with open('/home/yuweilin/tmp/syntaxnet_temp.txt', 'r') as f:\n",
    "    for line in f:\n",
    "        print(line)"
   ]
  },
  {
   "cell_type": "markdown",
   "metadata": {
    "collapsed": true
   },
   "source": [
    "# Word Embedding"
   ]
  },
  {
   "cell_type": "code",
   "execution_count": 1,
   "metadata": {
    "collapsed": true
   },
   "outputs": [],
   "source": [
    "import numpy as np\n",
    "from IPython.display import clear_output"
   ]
  },
  {
   "cell_type": "code",
   "execution_count": 2,
   "metadata": {
    "collapsed": false
   },
   "outputs": [
    {
     "name": "stdout",
     "output_type": "stream",
     "text": [
      "processing 2190000th line, 99.7260039426%\n"
     ]
    }
   ],
   "source": [
    "filename = '/home/yuweilin/word-embedding/glove.840B.300d.txt'\n",
    "size = 2196017.0\n",
    "words_map = {}\n",
    "with open(filename, 'r') as f:\n",
    "    i = 0\n",
    "    for line in f:\n",
    "        i += 1\n",
    "        if i%10000==0:\n",
    "            clear_output()\n",
    "            print('processing {0}th line, {1}%'.format(i, i/size*100))\n",
    "        splits = line.split(' ')\n",
    "        words_map[splits[0]] = np.array([float(x) for x in splits[1:]])"
   ]
  },
  {
   "cell_type": "code",
   "execution_count": 3,
   "metadata": {
    "collapsed": true
   },
   "outputs": [],
   "source": [
    "def cosine_distance(v1, v2):\n",
    "    return np.dot(v1,v2) / np.sqrt(np.dot(v1,v1)*np.dot(v2,v2))\n",
    "\n",
    "def euclidean_distance(v1, v2):\n",
    "    dv = v1 - v2\n",
    "    return np.sqrt(np.dot(dv,dv))\n",
    "\n",
    "def word_similarity(word1, word2, cmp=cosine_distance):\n",
    "    if word1 in words_map and word2 in words_map:\n",
    "        return cmp(words_map[word1], words_map[word2])\n",
    "    return 0.0"
   ]
  },
  {
   "cell_type": "code",
   "execution_count": 11,
   "metadata": {
    "collapsed": false
   },
   "outputs": [
    {
     "data": {
      "text/plain": [
       "0.3901110103667641"
      ]
     },
     "execution_count": 11,
     "metadata": {},
     "output_type": "execute_result"
    }
   ],
   "source": [
    "word_similarity('venue', 'city')"
   ]
  },
  {
   "cell_type": "code",
   "execution_count": null,
   "metadata": {
    "collapsed": false
   },
   "outputs": [],
   "source": [
    "similar_map = [[None]*len(words_map) for _ in range(len(words_map))]\n",
    "keys = words_map.keys()\n",
    "for i, w1 in enumerate(keys):\n",
    "    for j, w2 in enumerate(keys[i+1:]):\n",
    "        distance = word_similarity(w1, w2)\n",
    "        similar_map[i][i+j+1] = distance\n",
    "        similar_map[i+j+1][i] = distance\n",
    "\n",
    "keys_map = {word: i for i, word in enumerate(keys)}\n",
    "def find_similar(word, k=10):\n",
    "    indices = sorted([(distance, i) for i, distance in enumerate(similar_map[keys_map[word]]) if keys[i]!=word],\n",
    "                    reverse=True)[:10]\n",
    "    return [keys[i] for d, i in indices]"
   ]
  },
  {
   "cell_type": "code",
   "execution_count": null,
   "metadata": {
    "collapsed": false
   },
   "outputs": [],
   "source": [
    "find_similar('city')"
   ]
  },
  {
   "cell_type": "code",
   "execution_count": null,
   "metadata": {
    "collapsed": false
   },
   "outputs": [],
   "source": [
    "'Venue' in keys"
   ]
  },
  {
   "cell_type": "code",
   "execution_count": null,
   "metadata": {
    "collapsed": true
   },
   "outputs": [],
   "source": []
  }
 ],
 "metadata": {
  "anaconda-cloud": {},
  "kernelspec": {
   "display_name": "Python [conda root]",
   "language": "python",
   "name": "conda-root-py"
  },
  "language_info": {
   "codemirror_mode": {
    "name": "ipython",
    "version": 2
   },
   "file_extension": ".py",
   "mimetype": "text/x-python",
   "name": "python",
   "nbconvert_exporter": "python",
   "pygments_lexer": "ipython2",
   "version": "2.7.12"
  }
 },
 "nbformat": 4,
 "nbformat_minor": 1
}
