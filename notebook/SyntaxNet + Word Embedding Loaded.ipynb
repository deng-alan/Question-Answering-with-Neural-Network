{
 "cells": [
  {
   "cell_type": "code",
   "execution_count": 2,
   "metadata": {
    "collapsed": true
   },
   "outputs": [],
   "source": [
    "import glob\n",
    "import os\n",
    "import cPickle as pickle\n",
    "from IPython.display import clear_output\n",
    "import numpy as np"
   ]
  },
  {
   "cell_type": "markdown",
   "metadata": {},
   "source": [
    "# Load glo-ve word embedding"
   ]
  },
  {
   "cell_type": "code",
   "execution_count": 3,
   "metadata": {
    "collapsed": false
   },
   "outputs": [
    {
     "name": "stdout",
     "output_type": "stream",
     "text": [
      "Processing 2100000th word\n"
     ]
    }
   ],
   "source": [
    "word_vectors = {}\n",
    "with open('/Users/alan/Desktop/CS 221/final_project/glove.840B.300d.txt', 'r') as f:\n",
    "    i = 0\n",
    "    for line in f:\n",
    "        i += 1\n",
    "        if i % 100000==0: \n",
    "            clear_output()\n",
    "            print 'Processing {0}th word'.format(i)\n",
    "        info = line.split()\n",
    "        word_vectors[info[0]] = np.array([float(x) for x in info[1:]])"
   ]
  },
  {
   "cell_type": "markdown",
   "metadata": {},
   "source": [
    "# Load SyntexNet parsed questions\n",
    "Explanation of the output data:\n",
    "1. 'ns-1':is the index\n",
    "2. question\n",
    "3. which table is used\n",
    "4. Answer\n",
    "5. (the number indicates which one is the root)\n",
    "   (the first sublist is the one that I described today)\n",
    "   (the second sublist is your child)"
   ]
  },
  {
   "cell_type": "code",
   "execution_count": 4,
   "metadata": {
    "collapsed": false
   },
   "outputs": [
    {
     "data": {
      "text/plain": [
       "['ns-1',\n",
       " 'who was the first person to receive the award?',\n",
       " 'csv/204-csv/655.csv',\n",
       " 'Che Fu',\n",
       " [4,\n",
       "  [('who', 'PRON', 'WP', 'nsubj'),\n",
       "   ('was', 'VERB', 'VBD', 'cop'),\n",
       "   ('the', 'DET', 'DT', 'det'),\n",
       "   ('first', 'ADJ', 'JJ', 'amod'),\n",
       "   ('person', 'NOUN', 'NN', 'ROOT'),\n",
       "   ('to', 'PRT', 'TO', 'aux'),\n",
       "   ('receive', 'VERB', 'VB', 'infmod'),\n",
       "   ('the', 'DET', 'DT', 'det'),\n",
       "   ('award', 'NOUN', 'NN', 'dobj'),\n",
       "   ('?', '.', '.', 'punct')],\n",
       "  [[], [], [], [], [0, 1, 2, 3, 6, 9], [], [5, 8], [], [7], []]]]"
      ]
     },
     "execution_count": 4,
     "metadata": {},
     "output_type": "execute_result"
    }
   ],
   "source": [
    "with open('../data/questions_syntaxnet/seen-tables.pkl', 'rb') as f:\n",
    "    data = pickle.load(f)\n",
    "data[1]"
   ]
  },
  {
   "cell_type": "markdown",
   "metadata": {},
   "source": [
    "# Word Embedding Example\n",
    "input: word \n",
    "output: vector \n",
    "Here I use two ways to calculate the relation/similarity between two words: \n",
    "1. cosine similarity\n",
    "2. inverse of distance"
   ]
  },
  {
   "cell_type": "code",
   "execution_count": 5,
   "metadata": {
    "collapsed": false
   },
   "outputs": [
    {
     "name": "stdout",
     "output_type": "stream",
     "text": [
      "v1, v2: 0.242447507192 0.122884366123\n",
      "v2, v3: 0.521764947598 0.1516130426\n"
     ]
    }
   ],
   "source": [
    "v1 = word_vectors['cat']\n",
    "v2 = word_vectors['earth']\n",
    "v3 = word_vectors['sun']\n",
    "def cosine(v1, v2):\n",
    "    return np.dot(v1, v2)/np.sqrt(np.dot(v1, v1)*np.dot(v2, v2))\n",
    "def distanceInverse(v1,v2):\n",
    "    return 1.0/np.sqrt(np.sum([x**2 for x in v1-v2]))\n",
    "\n",
    "print 'v1, v2:', cosine(v1, v2), distanceInverse(v1,v2)\n",
    "print 'v2, v3:', cosine(v2, v3), distanceInverse(v2,v3)"
   ]
  },
  {
   "cell_type": "code",
   "execution_count": null,
   "metadata": {
    "collapsed": true
   },
   "outputs": [],
   "source": []
  }
 ],
 "metadata": {
  "anaconda-cloud": {},
  "kernelspec": {
   "display_name": "Python [default]",
   "language": "python",
   "name": "python2"
  },
  "language_info": {
   "codemirror_mode": {
    "name": "ipython",
    "version": 2
   },
   "file_extension": ".py",
   "mimetype": "text/x-python",
   "name": "python",
   "nbconvert_exporter": "python",
   "pygments_lexer": "ipython2",
   "version": "2.7.12"
  }
 },
 "nbformat": 4,
 "nbformat_minor": 1
}
