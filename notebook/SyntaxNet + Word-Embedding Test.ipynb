{
 "cells": [
  {
   "cell_type": "code",
   "execution_count": 1,
   "metadata": {
    "collapsed": true
   },
   "outputs": [],
   "source": [
    "sentence = 'what is the last time john wins a gold medal?'\n",
    "bashCommand = 'echo \\'' + sentence + '\\' | ./syntaxnet/demo.test.sh > ~/tmp/syntaxnet_temp.txt'"
   ]
  },
  {
   "cell_type": "code",
   "execution_count": 2,
   "metadata": {
    "collapsed": false
   },
   "outputs": [
    {
     "data": {
      "text/plain": [
       "0"
      ]
     },
     "execution_count": 2,
     "metadata": {},
     "output_type": "execute_result"
    }
   ],
   "source": [
    "import os\n",
    "os.chdir('/home/yuweilin/models/syntaxnet/')\n",
    "os.system(bashCommand)"
   ]
  },
  {
   "cell_type": "code",
   "execution_count": 3,
   "metadata": {
    "collapsed": false
   },
   "outputs": [
    {
     "name": "stdout",
     "output_type": "stream",
     "text": [
      "12\n",
      "['1', 'what', '_', 'PRON', 'WP', '_', '5', 'nsubj', '_', '_']\n",
      "['2', 'is', '_', 'VERB', 'VBZ', '_', '5', 'cop', '_', '_']\n",
      "['3', 'the', '_', 'DET', 'DT', '_', '5', 'det', '_', '_']\n",
      "['4', 'last', '_', 'ADJ', 'JJ', '_', '5', 'amod', '_', '_']\n",
      "['5', 'time', '_', 'NOUN', 'NN', '_', '0', 'ROOT', '_', '_']\n",
      "['6', 'john', '_', 'PRON', 'PRP', '_', '7', 'nsubj', '_', '_']\n",
      "['7', 'wins', '_', 'VERB', 'VBZ', '_', '5', 'rcmod', '_', '_']\n",
      "['8', 'a', '_', 'DET', 'DT', '_', '10', 'det', '_', '_']\n",
      "['9', 'gold', '_', 'NOUN', 'NN', '_', '10', 'nn', '_', '_']\n",
      "['10', 'medal', '_', 'NOUN', 'NN', '_', '7', 'dobj', '_', '_']\n",
      "['11', '?', '_', '.', '.', '_', '5', 'punct', '_', '_']\n",
      "[]\n"
     ]
    }
   ],
   "source": [
    "with open('/home/yuweilin/tmp/syntaxnet_temp.txt', 'r') as f:\n",
    "    lines = f.readlines()\n",
    "    print(len(lines))\n",
    "    for line in lines:\n",
    "        print(line.split())"
   ]
  },
  {
   "cell_type": "code",
   "execution_count": 4,
   "metadata": {
    "collapsed": false
   },
   "outputs": [
    {
     "name": "stdout",
     "output_type": "stream",
     "text": [
      "1\twhat\t_\tPRON\tWP\t_\t5\tnsubj\t_\t_\n",
      "\n",
      "2\tis\t_\tVERB\tVBZ\t_\t5\tcop\t_\t_\n",
      "\n",
      "3\tthe\t_\tDET\tDT\t_\t5\tdet\t_\t_\n",
      "\n",
      "4\tlast\t_\tADJ\tJJ\t_\t5\tamod\t_\t_\n",
      "\n",
      "5\ttime\t_\tNOUN\tNN\t_\t0\tROOT\t_\t_\n",
      "\n",
      "6\tjohn\t_\tPRON\tPRP\t_\t7\tnsubj\t_\t_\n",
      "\n",
      "7\twins\t_\tVERB\tVBZ\t_\t5\trcmod\t_\t_\n",
      "\n",
      "8\ta\t_\tDET\tDT\t_\t10\tdet\t_\t_\n",
      "\n",
      "9\tgold\t_\tNOUN\tNN\t_\t10\tnn\t_\t_\n",
      "\n",
      "10\tmedal\t_\tNOUN\tNN\t_\t7\tdobj\t_\t_\n",
      "\n",
      "11\t?\t_\t.\t.\t_\t5\tpunct\t_\t_\n",
      "\n",
      "\n",
      "\n"
     ]
    }
   ],
   "source": [
    "with open('/home/yuweilin/tmp/syntaxnet_temp.txt', 'r') as f:\n",
    "    for line in f:\n",
    "        print(line)"
   ]
  },
  {
   "cell_type": "markdown",
   "metadata": {
    "collapsed": true
   },
   "source": [
    "# Word Embedding"
   ]
  },
  {
   "cell_type": "code",
   "execution_count": 2,
   "metadata": {
    "collapsed": true
   },
   "outputs": [],
   "source": [
    "import numpy as np\n",
    "from IPython.display import clear_output"
   ]
  },
  {
   "cell_type": "code",
   "execution_count": 5,
   "metadata": {
    "collapsed": false
   },
   "outputs": [
    {
     "name": "stdout",
     "output_type": "stream",
     "text": [
      "processing 2190000th line, 99.7260039426%\n"
     ]
    }
   ],
   "source": [
    "filename = '/Users/alan/Desktop/CS 221/final_project/glove.840B.300d.txt'\n",
    "size = 2196017.0\n",
    "words_map = {}\n",
    "with open(filename, 'r') as f:\n",
    "    i = 0\n",
    "    for line in f:\n",
    "        i += 1\n",
    "        if i%10000==0:\n",
    "            clear_output()\n",
    "            print('processing {0}th line, {1}%'.format(i, i/size*100))\n",
    "        splits = line.split(' ')\n",
    "        words_map[splits[0]] = np.array([float(x) for x in splits[1:]])"
   ]
  },
  {
   "cell_type": "code",
   "execution_count": 3,
   "metadata": {
    "collapsed": true
   },
   "outputs": [],
   "source": [
    "def cosine_distance(v1, v2):\n",
    "    return np.dot(v1,v2) / np.sqrt(np.dot(v1,v1)*np.dot(v2,v2))\n",
    "\n",
    "def euclidean_distance(v1, v2):\n",
    "    dv = v1 - v2\n",
    "    return np.sqrt(np.dot(dv,dv))\n",
    "\n",
    "def word_similarity(word1, word2, cmp=cosine_distance):\n",
    "    if word1 in words_map and word2 in words_map:\n",
    "        return cmp(words_map[word1], words_map[word2])\n",
    "    return 0.0"
   ]
  },
  {
   "cell_type": "code",
   "execution_count": 4,
   "metadata": {
    "collapsed": false
   },
   "outputs": [
    {
     "ename": "NameError",
     "evalue": "global name 'words_map' is not defined",
     "output_type": "error",
     "traceback": [
      "\u001b[0;31m---------------------------------------------------------------------------\u001b[0m",
      "\u001b[0;31mNameError\u001b[0m                                 Traceback (most recent call last)",
      "\u001b[0;32m<ipython-input-4-c4235c11eda4>\u001b[0m in \u001b[0;36m<module>\u001b[0;34m()\u001b[0m\n\u001b[0;32m----> 1\u001b[0;31m \u001b[0mword_similarity\u001b[0m\u001b[0;34m(\u001b[0m\u001b[0;34m'venue'\u001b[0m\u001b[0;34m,\u001b[0m \u001b[0;34m'city'\u001b[0m\u001b[0;34m)\u001b[0m\u001b[0;34m\u001b[0m\u001b[0m\n\u001b[0m",
      "\u001b[0;32m<ipython-input-3-96c1f3078b56>\u001b[0m in \u001b[0;36mword_similarity\u001b[0;34m(word1, word2, cmp)\u001b[0m\n\u001b[1;32m      7\u001b[0m \u001b[0;34m\u001b[0m\u001b[0m\n\u001b[1;32m      8\u001b[0m \u001b[0;32mdef\u001b[0m \u001b[0mword_similarity\u001b[0m\u001b[0;34m(\u001b[0m\u001b[0mword1\u001b[0m\u001b[0;34m,\u001b[0m \u001b[0mword2\u001b[0m\u001b[0;34m,\u001b[0m \u001b[0mcmp\u001b[0m\u001b[0;34m=\u001b[0m\u001b[0mcosine_distance\u001b[0m\u001b[0;34m)\u001b[0m\u001b[0;34m:\u001b[0m\u001b[0;34m\u001b[0m\u001b[0m\n\u001b[0;32m----> 9\u001b[0;31m     \u001b[0;32mif\u001b[0m \u001b[0mword1\u001b[0m \u001b[0;32min\u001b[0m \u001b[0mwords_map\u001b[0m \u001b[0;32mand\u001b[0m \u001b[0mword2\u001b[0m \u001b[0;32min\u001b[0m \u001b[0mwords_map\u001b[0m\u001b[0;34m:\u001b[0m\u001b[0;34m\u001b[0m\u001b[0m\n\u001b[0m\u001b[1;32m     10\u001b[0m         \u001b[0;32mreturn\u001b[0m \u001b[0mcmp\u001b[0m\u001b[0;34m(\u001b[0m\u001b[0mwords_map\u001b[0m\u001b[0;34m[\u001b[0m\u001b[0mword1\u001b[0m\u001b[0;34m]\u001b[0m\u001b[0;34m,\u001b[0m \u001b[0mwords_map\u001b[0m\u001b[0;34m[\u001b[0m\u001b[0mword2\u001b[0m\u001b[0;34m]\u001b[0m\u001b[0;34m)\u001b[0m\u001b[0;34m\u001b[0m\u001b[0m\n\u001b[1;32m     11\u001b[0m     \u001b[0;32mreturn\u001b[0m \u001b[0;36m0.0\u001b[0m\u001b[0;34m\u001b[0m\u001b[0m\n",
      "\u001b[0;31mNameError\u001b[0m: global name 'words_map' is not defined"
     ]
    }
   ],
   "source": [
    "word_similarity('venue', 'city')"
   ]
  },
  {
   "cell_type": "code",
   "execution_count": null,
   "metadata": {
    "collapsed": false
   },
   "outputs": [],
   "source": [
    "similar_map = [[None]*len(words_map) for _ in range(len(words_map))]\n",
    "keys = words_map.keys()\n",
    "for i, w1 in enumerate(keys):\n",
    "    for j, w2 in enumerate(keys[i+1:]):\n",
    "        distance = word_similarity(w1, w2)\n",
    "        similar_map[i][i+j+1] = distance\n",
    "        similar_map[i+j+1][i] = distance\n",
    "\n",
    "keys_map = {word: i for i, word in enumerate(keys)}\n",
    "def find_similar(word, k=10):\n",
    "    indices = sorted([(distance, i) for i, distance in enumerate(similar_map[keys_map[word]]) if keys[i]!=word],\n",
    "                    reverse=True)[:10]\n",
    "    return [keys[i] for d, i in indices]"
   ]
  },
  {
   "cell_type": "code",
   "execution_count": null,
   "metadata": {
    "collapsed": false
   },
   "outputs": [],
   "source": [
    "find_similar('city')"
   ]
  },
  {
   "cell_type": "code",
   "execution_count": null,
   "metadata": {
    "collapsed": false
   },
   "outputs": [],
   "source": [
    "'Venue' in keys"
   ]
  },
  {
   "cell_type": "code",
   "execution_count": null,
   "metadata": {
    "collapsed": true
   },
   "outputs": [],
   "source": []
  }
 ],
 "metadata": {
  "anaconda-cloud": {},
  "kernelspec": {
   "display_name": "Python [conda root]",
   "language": "python",
   "name": "conda-root-py"
  },
  "language_info": {
   "codemirror_mode": {
    "name": "ipython",
    "version": 2
   },
   "file_extension": ".py",
   "mimetype": "text/x-python",
   "name": "python",
   "nbconvert_exporter": "python",
   "pygments_lexer": "ipython2",
   "version": "2.7.12"
  }
 },
 "nbformat": 4,
 "nbformat_minor": 1
}
